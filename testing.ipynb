{
 "cells": [
  {
   "cell_type": "code",
   "execution_count": 1,
   "metadata": {},
   "outputs": [],
   "source": [
    "import torch\n",
    "from torchvision import transforms\n",
    "from PIL import Image"
   ]
  },
  {
   "cell_type": "code",
   "execution_count": 2,
   "metadata": {},
   "outputs": [],
   "source": [
    "transform = transforms.Compose([\n",
    "    transforms.Resize((256, 256)),\n",
    "    transforms.ToTensor(),\n",
    "    transforms.Normalize(mean=[0.485, 0.456, 0.406], std=[0.229, 0.224, 0.225])\n",
    "])"
   ]
  },
  {
   "cell_type": "code",
   "execution_count": 3,
   "metadata": {},
   "outputs": [],
   "source": [
    "def load_image(image_path):\n",
    "    my_image = Image.open(image_path).convert('RGB')\n",
    "    my_image = transform(my_image).unsqueeze(0)\n",
    "    return my_image\n",
    "\n",
    "    "
   ]
  },
  {
   "cell_type": "code",
   "execution_count": 4,
   "metadata": {},
   "outputs": [],
   "source": [
    "def predict(model,image_path):\n",
    "    img = load_image(image_path)\n",
    "    model.eval()\n",
    "    with torch.no_grad():\n",
    "        outputs=model(img)\n",
    "        _,predicted = torch.max(outputs,1)\n",
    "        softmax = torch.nn.Softmax(dim=1)\n",
    "        probs = softmax(outputs)  # Calculate class probabilities\n",
    "        accuracy = torch.max(probs).item()  # Max probability\n",
    "    return predicted,accuracy"
   ]
  },
  {
   "cell_type": "code",
   "execution_count": 5,
   "metadata": {},
   "outputs": [],
   "source": [
    "resNet50_1= torch.load('ResNet50-Rice-Disease-Detection-v1.pt')"
   ]
  },
  {
   "cell_type": "code",
   "execution_count": 6,
   "metadata": {},
   "outputs": [],
   "source": [
    "class_rice=['Bacterialblight', 'Blast', 'Brownspot', 'Tungro']"
   ]
  },
  {
   "cell_type": "code",
   "execution_count": 7,
   "metadata": {},
   "outputs": [
    {
     "name": "stdout",
     "output_type": "stream",
     "text": [
      "Disease 5-5 : Blast Accuracy: 0.7888975739479065\n"
     ]
    }
   ],
   "source": [
    "image_path1 = 'Blast.png'\n",
    "class_index,accuracy=predict(resNet50_1,image_path1)\n",
    "print(f'Disease 5-5 : {class_rice[class_index]} Accuracy: {accuracy}')"
   ]
  },
  {
   "cell_type": "code",
   "execution_count": 15,
   "metadata": {},
   "outputs": [
    {
     "name": "stdout",
     "output_type": "stream",
     "text": [
      "Disease 5-5 : Brownspot Accuracy: 0.9999996423721313\n"
     ]
    }
   ],
   "source": [
    "image_path1 = 'test-6.png'\n",
    "class_index,accuracy=predict(resNet50_1,image_path1)\n",
    "print(f'Disease 5-5 : {class_rice[class_index]} Accuracy: {accuracy}')"
   ]
  }
 ],
 "metadata": {
  "kernelspec": {
   "display_name": "Python 3",
   "language": "python",
   "name": "python3"
  },
  "language_info": {
   "codemirror_mode": {
    "name": "ipython",
    "version": 3
   },
   "file_extension": ".py",
   "mimetype": "text/x-python",
   "name": "python",
   "nbconvert_exporter": "python",
   "pygments_lexer": "ipython3",
   "version": "3.10.0"
  }
 },
 "nbformat": 4,
 "nbformat_minor": 2
}
